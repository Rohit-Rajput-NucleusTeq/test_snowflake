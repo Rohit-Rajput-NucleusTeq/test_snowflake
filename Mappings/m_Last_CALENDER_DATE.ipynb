{
 "cells": [
  {
   "cell_type": "code",
   "execution_count": 0,
   "metadata": {
    "application/vnd.databricks.v1+cell": {
     "cellMetadata": {},
     "inputWidgets": {},
     "nuid": "3ede6d90-2aea-4fec-8575-54b59115220a",
     "showTitle": false,
     "tableResultSettingsMap": {},
     "title": ""
    }
   },
   "outputs": [],
   "source": [
    "%run \"./udf_informatica\""
   ]
  },
  {
   "cell_type": "code",
   "execution_count": 0,
   "metadata": {
    "application/vnd.databricks.v1+cell": {
     "cellMetadata": {},
     "inputWidgets": {},
     "nuid": "aab25fda-eb8f-4b05-90d4-ad2d6b8f52f2",
     "showTitle": false,
     "tableResultSettingsMap": {},
     "title": ""
    }
   },
   "outputs": [],
   "source": [
    "\n",
    "from pyspark.sql.types import *\n",
    "\n",
    "spark.sql(\"use DELTA_TRAINING\")\n",
    "spark.sql(\"set spark.sql.legacy.timeParserPolicy = LEGACY\")"
   ]
  },
  {
   "cell_type": "code",
   "execution_count": 0,
   "metadata": {
    "application/vnd.databricks.v1+cell": {
     "cellMetadata": {},
     "inputWidgets": {},
     "nuid": "8e6e220f-36cb-4d8b-8d88-1ba846a6312d",
     "showTitle": false,
     "tableResultSettingsMap": {},
     "title": ""
    }
   },
   "outputs": [],
   "source": [
    "%run ./MappingUtility"
   ]
  },
  {
   "cell_type": "code",
   "execution_count": 0,
   "metadata": {
    "application/vnd.databricks.v1+cell": {
     "cellMetadata": {},
     "inputWidgets": {},
     "nuid": "ba5e1e79-bfdf-40a1-aa10-782016cee90b",
     "showTitle": false,
     "tableResultSettingsMap": {},
     "title": ""
    }
   },
   "outputs": [],
   "source": [
    "mainWorkflowId = dbutils.widgets.get(\"mainWorkflowId\")\n",
    "mainWorkflowRunId = dbutils.widgets.get(\"mainWorkflowRunId\")\n",
    "parentName = dbutils.widgets.get(\"parentName\")\n",
    "preVariableAssignment = dbutils.widgets.get(\"preVariableAssignment\")\n",
    "postVariableAssignment = dbutils.widgets.get(\"postVariableAssignment\")\n",
    "truncTargetTableOptions = dbutils.widgets.get(\"truncTargetTableOptions\")\n",
    "variablesTableName = dbutils.widgets.get(\"variablesTableName\")"
   ]
  },
  {
   "cell_type": "code",
   "execution_count": 0,
   "metadata": {
    "application/vnd.databricks.v1+cell": {
     "cellMetadata": {},
     "inputWidgets": {},
     "nuid": "813cb7db-df93-4919-b3af-f0eb15e2ea21",
     "showTitle": false,
     "tableResultSettingsMap": {},
     "title": ""
    }
   },
   "outputs": [],
   "source": [
    "#Truncate Target Tables\n",
    "truncateTargetTables(truncTargetTableOptions)"
   ]
  },
  {
   "cell_type": "code",
   "execution_count": 0,
   "metadata": {
    "application/vnd.databricks.v1+cell": {
     "cellMetadata": {},
     "inputWidgets": {},
     "nuid": "e38b8e59-6420-4bba-af81-c75b09115f17",
     "showTitle": false,
     "tableResultSettingsMap": {},
     "title": ""
    }
   },
   "outputs": [],
   "source": [
    "#Pre presession variable updation\n",
    "updateVariable(preVariableAssignment, variablesTableName, mainWorkflowId, parentName, \"m_Last_CALENDER_DATE\")"
   ]
  },
  {
   "cell_type": "code",
   "execution_count": 0,
   "metadata": {
    "application/vnd.databricks.v1+cell": {
     "cellMetadata": {},
     "inputWidgets": {},
     "nuid": "a6bbbb81-b270-41ef-92c9-140384a9a661",
     "showTitle": false,
     "tableResultSettingsMap": {},
     "title": ""
    }
   },
   "outputs": [],
   "source": [
    "fetchAndCreateVariables(parentName,\"m_Last_CALENDER_DATE\", variablesTableName, mainWorkflowId)"
   ]
  },
  {
   "cell_type": "code",
   "execution_count": 0,
   "metadata": {
    "application/vnd.databricks.v1+cell": {
     "cellMetadata": {},
     "inputWidgets": {},
     "nuid": "9e3d22e3-fe18-4d7e-b7d2-398f6014e509",
     "showTitle": true,
     "tableResultSettingsMap": {},
     "title": " Shortcut_to_CALENDAR_0 [Source Definition] "
    }
   },
   "outputs": [],
   "source": [
    "\n",
    "query_0 = f\"\"\"SELECT\n",
    "  DAY_DT AS DAY_DT,\n",
    "  BUSINESS_DAY_FLAG AS BUSINESS_DAY_FLAG,\n",
    "  HOLIDAY_FLAG AS HOLIDAY_FLAG,\n",
    "  DAY_OF_WK_NAME AS DAY_OF_WK_NAME,\n",
    "  DAY_OF_WK_NAME_ABBR AS DAY_OF_WK_NAME_ABBR,\n",
    "  DAY_OF_WK_NBR AS DAY_OF_WK_NBR,\n",
    "  CAL_DAY_OF_MO_NBR AS CAL_DAY_OF_MO_NBR,\n",
    "  CAL_DAY_OF_YR_NBR AS CAL_DAY_OF_YR_NBR,\n",
    "  CAL_WK AS CAL_WK,\n",
    "  CAL_WK_NBR AS CAL_WK_NBR,\n",
    "  CAL_MO AS CAL_MO,\n",
    "  CAL_MO_NBR AS CAL_MO_NBR,\n",
    "  CAL_MO_NAME AS CAL_MO_NAME,\n",
    "  CAL_MO_NAME_ABBR AS CAL_MO_NAME_ABBR,\n",
    "  CAL_QTR AS CAL_QTR,\n",
    "  CAL_QTR_NBR AS CAL_QTR_NBR,\n",
    "  CAL_HALF AS CAL_HALF,\n",
    "  CAL_YR AS CAL_YR,\n",
    "  FISCAL_DAY_OF_MO_NBR AS FISCAL_DAY_OF_MO_NBR,\n",
    "  FISCAL_DAY_OF_YR_NBR AS FISCAL_DAY_OF_YR_NBR,\n",
    "  FISCAL_WK AS FISCAL_WK,\n",
    "  FISCAL_WK_NBR AS FISCAL_WK_NBR,\n",
    "  FISCAL_MO AS FISCAL_MO,\n",
    "  FISCAL_MO_NBR AS FISCAL_MO_NBR,\n",
    "  FISCAL_MO_NAME AS FISCAL_MO_NAME,\n",
    "  FISCAL_MO_NAME_ABBR AS FISCAL_MO_NAME_ABBR,\n",
    "  FISCAL_QTR AS FISCAL_QTR,\n",
    "  FISCAL_QTR_NBR AS FISCAL_QTR_NBR,\n",
    "  FISCAL_HALF AS FISCAL_HALF,\n",
    "  FISCAL_YR AS FISCAL_YR,\n",
    "  LYR_WEEK_DT AS LYR_WEEK_DT,\n",
    "  LWK_WEEK_DT AS LWK_WEEK_DT,\n",
    "  WEEK_DT AS WEEK_DT,\n",
    "  EST_TIME_CONV_AMT AS EST_TIME_CONV_AMT,\n",
    "  EST_TIME_CONV_HRS AS EST_TIME_CONV_HRS,\n",
    "  ES0_TIME_CONV_AMT AS ES0_TIME_CONV_AMT,\n",
    "  ES0_TIME_CONV_HRS AS ES0_TIME_CONV_HRS,\n",
    "  CST_TIME_CONV_AMT AS CST_TIME_CONV_AMT,\n",
    "  CST_TIME_CONV_HRS AS CST_TIME_CONV_HRS,\n",
    "  CS0_TIME_CONV_AMT AS CS0_TIME_CONV_AMT,\n",
    "  CS0_TIME_CONV_HRS AS CS0_TIME_CONV_HRS,\n",
    "  MST_TIME_CONV_AMT AS MST_TIME_CONV_AMT,\n",
    "  MST_TIME_CONV_HRS AS MST_TIME_CONV_HRS,\n",
    "  MS0_TIME_CONV_AMT AS MS0_TIME_CONV_AMT,\n",
    "  MS0_TIME_CONV_HRS AS MS0_TIME_CONV_HRS,\n",
    "  PST_TIME_CONV_AMT AS PST_TIME_CONV_AMT,\n",
    "  PST_TIME_CONV_HRS AS PST_TIME_CONV_HRS\n",
    "FROM\n",
    "  CALENDAR\"\"\"\n",
    "\n",
    "df_0 = spark.sql(query_0)\n",
    "\n",
    "df_0.createOrReplaceTempView(\"Shortcut_to_CALENDAR_0\")"
   ]
  },
  {
   "cell_type": "code",
   "execution_count": 0,
   "metadata": {
    "application/vnd.databricks.v1+cell": {
     "cellMetadata": {},
     "inputWidgets": {},
     "nuid": "f58106d1-50b4-47b2-94ff-741bd2304966",
     "showTitle": true,
     "tableResultSettingsMap": {},
     "title": " SQ_Shortcut_to_CALENDAR_1 [Source Qualifier] "
    }
   },
   "outputs": [],
   "source": [
    "\n",
    "query_1 = f\"\"\"SELECT\n",
    "  DAY_DT AS DAY_DT,\n",
    "  BUSINESS_DAY_FLAG AS BUSINESS_DAY_FLAG,\n",
    "  HOLIDAY_FLAG AS HOLIDAY_FLAG,\n",
    "  DAY_OF_WK_NAME AS DAY_OF_WK_NAME,\n",
    "  DAY_OF_WK_NAME_ABBR AS DAY_OF_WK_NAME_ABBR,\n",
    "  DAY_OF_WK_NBR AS DAY_OF_WK_NBR,\n",
    "  CAL_DAY_OF_MO_NBR AS CAL_DAY_OF_MO_NBR,\n",
    "  CAL_DAY_OF_YR_NBR AS CAL_DAY_OF_YR_NBR,\n",
    "  CAL_WK AS CAL_WK,\n",
    "  CAL_WK_NBR AS CAL_WK_NBR,\n",
    "  CAL_MO AS CAL_MO,\n",
    "  CAL_MO_NBR AS CAL_MO_NBR,\n",
    "  CAL_MO_NAME AS CAL_MO_NAME,\n",
    "  CAL_MO_NAME_ABBR AS CAL_MO_NAME_ABBR,\n",
    "  CAL_QTR AS CAL_QTR,\n",
    "  CAL_QTR_NBR AS CAL_QTR_NBR,\n",
    "  CAL_HALF AS CAL_HALF,\n",
    "  CAL_YR AS CAL_YR,\n",
    "  FISCAL_DAY_OF_MO_NBR AS FISCAL_DAY_OF_MO_NBR,\n",
    "  FISCAL_DAY_OF_YR_NBR AS FISCAL_DAY_OF_YR_NBR,\n",
    "  FISCAL_WK AS FISCAL_WK,\n",
    "  FISCAL_WK_NBR AS FISCAL_WK_NBR,\n",
    "  FISCAL_MO AS FISCAL_MO,\n",
    "  FISCAL_MO_NBR AS FISCAL_MO_NBR,\n",
    "  FISCAL_MO_NAME AS FISCAL_MO_NAME,\n",
    "  FISCAL_MO_NAME_ABBR AS FISCAL_MO_NAME_ABBR,\n",
    "  FISCAL_QTR AS FISCAL_QTR,\n",
    "  FISCAL_QTR_NBR AS FISCAL_QTR_NBR,\n",
    "  FISCAL_HALF AS FISCAL_HALF,\n",
    "  FISCAL_YR AS FISCAL_YR,\n",
    "  LYR_WEEK_DT AS LYR_WEEK_DT,\n",
    "  LWK_WEEK_DT AS LWK_WEEK_DT,\n",
    "  WEEK_DT AS WEEK_DT,\n",
    "  EST_TIME_CONV_AMT AS EST_TIME_CONV_AMT,\n",
    "  EST_TIME_CONV_HRS AS EST_TIME_CONV_HRS,\n",
    "  ES0_TIME_CONV_AMT AS ES0_TIME_CONV_AMT,\n",
    "  ES0_TIME_CONV_HRS AS ES0_TIME_CONV_HRS,\n",
    "  CST_TIME_CONV_AMT AS CST_TIME_CONV_AMT,\n",
    "  CST_TIME_CONV_HRS AS CST_TIME_CONV_HRS,\n",
    "  CS0_TIME_CONV_AMT AS CS0_TIME_CONV_AMT,\n",
    "  CS0_TIME_CONV_HRS AS CS0_TIME_CONV_HRS,\n",
    "  MST_TIME_CONV_AMT AS MST_TIME_CONV_AMT,\n",
    "  MST_TIME_CONV_HRS AS MST_TIME_CONV_HRS,\n",
    "  MS0_TIME_CONV_AMT AS MS0_TIME_CONV_AMT,\n",
    "  MS0_TIME_CONV_HRS AS MS0_TIME_CONV_HRS,\n",
    "  PST_TIME_CONV_AMT AS PST_TIME_CONV_AMT,\n",
    "  PST_TIME_CONV_HRS AS PST_TIME_CONV_HRS,\n",
    "  monotonically_increasing_id() AS Monotonically_Increasing_Id\n",
    "FROM\n",
    "  Shortcut_to_CALENDAR_0\n",
    "WHERE\n",
    "  DAY_DT = CURRENT_DATE\"\"\"\n",
    "\n",
    "df_1 = spark.sql(query_1)\n",
    "\n",
    "df_1.createOrReplaceTempView(\"SQ_Shortcut_to_CALENDAR_1\")"
   ]
  },
  {
   "cell_type": "code",
   "execution_count": 0,
   "metadata": {
    "application/vnd.databricks.v1+cell": {
     "cellMetadata": {},
     "inputWidgets": {},
     "nuid": "c189e2dc-7fae-4077-a1b6-a2f9dd723fdf",
     "showTitle": true,
     "tableResultSettingsMap": {},
     "title": " EXP_LAST_RUN_DT_2 [Expression] "
    }
   },
   "outputs": [],
   "source": [
    "\n",
    "query_2_1 = f\"\"\"SELECT\n",
    "  DAY_DT AS DAY_DT,\n",
    "  Monotonically_Increasing_Id AS Monotonically_Increasing_Id\n",
    "FROM\n",
    "  SQ_Shortcut_to_CALENDAR_1\"\"\"\n",
    "\n",
    "df_2_1 = spark.sql(query_2_1)\n",
    "\n",
    "df_2_1.createOrReplaceTempView(\"EXP_LAST_RUN_DT_2\")\n",
    "\n",
    "query_2_2 = f\"\"\"SELECT\n",
    "  *,\n",
    "  SETVARIABLE(\n",
    "    'Last_Run_Dt',\n",
    "    date_trunc('DAY', current_timestamp())\n",
    "  ) AS SET_LAST_RUN_DT\n",
    "FROM\n",
    "  EXP_LAST_RUN_DT_2\"\"\"\n",
    "\n",
    "df_2_2 = spark.sql(query_2_2)\n",
    "\n",
    "df_2_2.createOrReplaceTempView(\"EXP_LAST_RUN_DT_2\")\n",
    "\n",
    "if df_2.count() > 0 :\n",
    "  Last_Run_Dt = df_2.agg({'SET_LAST_RUN_DT' : 'max'}).collect()[0][0]"
   ]
  },
  {
   "cell_type": "code",
   "execution_count": 0,
   "metadata": {
    "application/vnd.databricks.v1+cell": {
     "cellMetadata": {},
     "inputWidgets": {},
     "nuid": "70d335b8-6896-4970-9fb8-42801514f3a9",
     "showTitle": true,
     "tableResultSettingsMap": {},
     "title": " FIL_FALSE_3 [Filter] "
    }
   },
   "outputs": [],
   "source": [
    "\n",
    "query_3 = f\"\"\"SELECT\n",
    "  DAY_DT AS DAY_DT,\n",
    "  Monotonically_Increasing_Id AS Monotonically_Increasing_Id\n",
    "FROM\n",
    "  EXP_LAST_RUN_DT_2\n",
    "WHERE\n",
    "  FALSE\"\"\"\n",
    "\n",
    "df_3 = spark.sql(query_3)\n",
    "\n",
    "df_3.createOrReplaceTempView(\"FIL_FALSE_3\")"
   ]
  },
  {
   "cell_type": "code",
   "execution_count": 0,
   "metadata": {
    "application/vnd.databricks.v1+cell": {
     "cellMetadata": {},
     "inputWidgets": {},
     "nuid": "39a4bef6-2ca3-40af-b2b9-5285af7f454b",
     "showTitle": true,
     "tableResultSettingsMap": {},
     "title": " TEST_COURT [Target Definition] "
    }
   },
   "outputs": [],
   "source": [
    "\n",
    "spark.sql(\"\"\"INSERT INTO\n",
    "  TEST_COURT\n",
    "SELECT\n",
    "  NULL AS LOCATION_ID,\n",
    "  NULL AS WM_YARD_ID,\n",
    "  NULL AS WM_TC_COMPANY_ID,\n",
    "  NULL AS WM_YARD_NAME,\n",
    "  NULL AS WM_LOCATION_ID,\n",
    "  NULL AS WM_TIME_ZONE_ID,\n",
    "  NULL AS GENERATE_MOVE_TASK_FLAG,\n",
    "  NULL AS GENERATE_NEXT_EQUIP_FLAG,\n",
    "  NULL AS RANGE_TASKS_FLAG,\n",
    "  NULL AS SEAL_TASK_TRGD_FLAG,\n",
    "  NULL AS OVERRIDE_SYSTEM_TASKS_FLAG,\n",
    "  NULL AS TASKING_ALLOWED_FLAG,\n",
    "  NULL AS LOCK_TRAILER_ON_MOVE_TO_DOOR_FLAG,\n",
    "  NULL AS YARD_SVG_FILE,\n",
    "  NULL AS ADDRESS,\n",
    "  NULL AS CITY,\n",
    "  NULL AS STATE_PROV,\n",
    "  NULL AS POSTAL_CD,\n",
    "  NULL AS COUNTY,\n",
    "  NULL AS COUNTRY_CD,\n",
    "  NULL AS MAX_EQUIPMENT_ALLOWED,\n",
    "  NULL AS UPPER_CHECK_IN_TIME_MINS,\n",
    "  NULL AS LOWER_CHECK_IN_TIME_MINS,\n",
    "  NULL AS FIXED_TIME_MINS,\n",
    "  NULL AS THRESHOLD_PERCENT,\n",
    "  NULL AS MARK_FOR_DELETION,\n",
    "  NULL AS WM_CREATED_SOURCE_TYPE,\n",
    "  NULL AS WM_CREATED_SOURCE,\n",
    "  NULL AS WM_CREATED_TSTMP,\n",
    "  NULL AS WM_LAST_UPDATED_SOURCE_TYPE,\n",
    "  NULL AS WM_LAST_UPDATED_SOURCE,\n",
    "  NULL AS WM_LAST_UPDATED_TSTMP,\n",
    "  NULL AS UPDATE_TSTMP,\n",
    "  DAY_DT AS LOAD_TSTMP\n",
    "FROM\n",
    "  FIL_FALSE_3\"\"\")"
   ]
  },
  {
   "cell_type": "code",
   "execution_count": 0,
   "metadata": {
    "application/vnd.databricks.v1+cell": {
     "cellMetadata": {},
     "inputWidgets": {},
     "nuid": "0d292ff7-e379-4ecd-817e-873409378941",
     "showTitle": false,
     "tableResultSettingsMap": {},
     "title": ""
    }
   },
   "outputs": [],
   "source": [
    "#Post session variable updation\n",
    "updateVariable(postVariableAssignment, variablesTableName, mainWorkflowId, parentName, \"m_Last_CALENDER_DATE\")"
   ]
  },
  {
   "cell_type": "code",
   "execution_count": 0,
   "metadata": {
    "application/vnd.databricks.v1+cell": {
     "cellMetadata": {},
     "inputWidgets": {},
     "nuid": "c1960c4d-17a3-4674-8545-618e1a9dd5a0",
     "showTitle": false,
     "tableResultSettingsMap": {},
     "title": ""
    }
   },
   "outputs": [],
   "source": [
    "#Update Mapping Variables in database.\n",
    "persistVariables(variablesTableName, \"m_Last_CALENDER_DATE\", mainWorkflowId, parentName)"
   ]
  }
 ],
 "metadata": {
  "application/vnd.databricks.v1+notebook": {
   "computePreferences": null,
   "dashboards": [],
   "environmentMetadata": null,
   "language": "python",
   "notebookMetadata": {
    "pythonIndentUnit": 4
   },
   "notebookName": "m_Last_CALENDER_DATE",
   "widgets": {}
  },
  "language_info": {
   "name": "python"
  }
 },
 "nbformat": 4,
 "nbformat_minor": 0
}